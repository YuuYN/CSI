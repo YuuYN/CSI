{
 "cells": [
  {
   "cell_type": "markdown",
   "metadata": {},
   "source": [
    "Buổi 1: Ôn tập Python\n",
    "Syntax, cấu trúc điều kiện, cấu trúc lặp, function, OOP\n",
    "Các cấu trúc dữ liệu cơ bản: list, tuple, string, set, dictionary.\n",
    "Làm quen với Jupyter Notebook\n",
    "\n",
    "Basic: \n",
    "- Setting máy: \n",
    "    Setting: Ctrl + Shift + P --> Chọn Workspace setting \n",
    "    Mouse scroll\n",
    "    Word wrap \n",
    "- Phím tắt:\n",
    "    Open/close sidebar: ctrl + B\n",
    "    Run cell code: Ctrl + Enter\n"
   ]
  },
  {
   "cell_type": "code",
   "execution_count": 2,
   "metadata": {},
   "outputs": [
    {
     "name": "stdout",
     "output_type": "stream",
     "text": [
      "hello ngân\n"
     ]
    }
   ],
   "source": [
    "print('hello ngân')"
   ]
  },
  {
   "cell_type": "markdown",
   "metadata": {},
   "source": [
    "# 1. Ôn tập"
   ]
  },
  {
   "cell_type": "markdown",
   "metadata": {},
   "source": [
    "## Biến "
   ]
  },
  {
   "cell_type": "code",
   "execution_count": 7,
   "metadata": {},
   "outputs": [
    {
     "data": {
      "text/plain": [
       "str"
      ]
     },
     "execution_count": 7,
     "metadata": {},
     "output_type": "execute_result"
    }
   ],
   "source": [
    "num = 'True'\n",
    "num\n",
    "\n",
    "type(num)"
   ]
  },
  {
   "cell_type": "markdown",
   "metadata": {},
   "source": [
    "## Toán tử"
   ]
  },
  {
   "cell_type": "code",
   "execution_count": null,
   "metadata": {},
   "outputs": [],
   "source": [
    "# % chia lấy dư \n",
    "# // chia lấy nguyên\n",
    "# phép gán: = \n",
    "# 1. toán tử số học: + - \n",
    "# 2. toán tử so sánh:\n",
    "#     ==\n",
    "#     !=\n",
    "#     > >=\n",
    "#     < <=\n",
    "# 3. toán tử logic:\n",
    "    # and\n",
    "    # or  \n",
    "    # not \n",
    "    \n",
    "\n",
    "a = 2 \n",
    "b = 3\n",
    "a == b"
   ]
  },
  {
   "cell_type": "code",
   "execution_count": null,
   "metadata": {},
   "outputs": [],
   "source": [
    "a = 2\n",
    "b = 3\n",
    "a += b # ==> a = a + b "
   ]
  },
  {
   "cell_type": "code",
   "execution_count": null,
   "metadata": {},
   "outputs": [],
   "source": [
    "# hàm toán có sẵn \n",
    "# ** --> pow \n",
    "# max min abs "
   ]
  },
  {
   "cell_type": "markdown",
   "metadata": {},
   "source": [
    "## Input - Output"
   ]
  },
  {
   "cell_type": "code",
   "execution_count": 9,
   "metadata": {},
   "outputs": [
    {
     "data": {
      "text/plain": [
       "int"
      ]
     },
     "execution_count": 9,
     "metadata": {},
     "output_type": "execute_result"
    }
   ],
   "source": [
    "namsinh = int(input()) \n",
    "type(namsinh) "
   ]
  },
  {
   "cell_type": "code",
   "execution_count": 10,
   "metadata": {},
   "outputs": [
    {
     "data": {
      "text/plain": [
       "6"
      ]
     },
     "execution_count": 10,
     "metadata": {},
     "output_type": "execute_result"
    }
   ],
   "source": [
    "# có tham số hay kh? \n",
    "# có return hay kh?\n",
    "def tong(x, y):\n",
    "    return x+ y\n",
    "\n",
    "tong(1,5) "
   ]
  },
  {
   "cell_type": "markdown",
   "metadata": {},
   "source": [
    "## Module "
   ]
  },
  {
   "cell_type": "code",
   "execution_count": 18,
   "metadata": {},
   "outputs": [
    {
     "name": "stdout",
     "output_type": "stream",
     "text": [
      "Chính xác, số bạn đoán: 5 Số đúng là: 5\n"
     ]
    }
   ],
   "source": [
    "import random\n",
    "\n",
    "# app random 1 số nguyên bất kỳ, từ 1 tới 10. \n",
    "# cho người dùng 3 lần chơi, \n",
    "# count = 3\n",
    "# - app random: 5\n",
    "# - input: 4 --> số nhỏ hơn đáp án, bạn còn 2 lần chơi\n",
    "# - input: 6 --> số lớn hơn đáp án, bạn còn 1 lần chơi\n",
    "# - input: 5 --> you win\n",
    "\n",
    "count = 3\n",
    "random_number = random.randint(1, 10)\n",
    "\n",
    "# print(random_number)\n",
    "\n",
    "while count > 0:\n",
    "    guess_number = int(input(\"Chọn số 1 - 10: \"))\n",
    "    \n",
    "    if guess_number == random_number:\n",
    "        print(\"Chính xác, số bạn đoán:\", guess_number, \"Số đúng là:\", random_number)\n",
    "        break\n",
    "    elif guess_number < random_number:\n",
    "        print(guess_number, \"khá nhỏ so với số đúng\")\n",
    "    elif guess_number > random_number:\n",
    "        print(guess_number, \"khá lớn so với số đúng\")\n",
    "    count = count - 1\n",
    "\n",
    "if count == 0:\n",
    "    print(\"Ban đã hết lượt chơi, số ngẫu nhiên là:\", random_number)"
   ]
  },
  {
   "cell_type": "markdown",
   "metadata": {},
   "source": [
    "## vòng lặp for\n"
   ]
  },
  {
   "cell_type": "code",
   "execution_count": 21,
   "metadata": {},
   "outputs": [
    {
     "name": "stdout",
     "output_type": "stream",
     "text": [
      "0 1\n",
      "1 2\n",
      "2 3\n",
      "3 4\n",
      "4 5\n",
      "5 6\n",
      "6 7\n",
      "7 8\n",
      "8 9\n",
      "9 10\n"
     ]
    }
   ],
   "source": [
    "for i in range(10):\n",
    "    print(i, i + 1)"
   ]
  },
  {
   "cell_type": "code",
   "execution_count": 26,
   "metadata": {},
   "outputs": [
    {
     "name": "stdout",
     "output_type": "stream",
     "text": [
      "1 2 3 4 5 6 7 8 9 10 "
     ]
    }
   ],
   "source": [
    "for i in range(10):\n",
    "    print(i + 1, end=\" \")"
   ]
  },
  {
   "cell_type": "code",
   "execution_count": 29,
   "metadata": {},
   "outputs": [
    {
     "name": "stdout",
     "output_type": "stream",
     "text": [
      "m\n",
      "i\n",
      "n\n",
      "d\n",
      "x\n"
     ]
    }
   ],
   "source": [
    "for kitu in \"mindx\":\n",
    "    print(kitu)"
   ]
  },
  {
   "cell_type": "markdown",
   "metadata": {},
   "source": [
    "## Danh sách (List)"
   ]
  },
  {
   "cell_type": "code",
   "execution_count": 32,
   "metadata": {},
   "outputs": [
    {
     "name": "stdout",
     "output_type": "stream",
     "text": [
      "string\n",
      "34\n",
      "True\n"
     ]
    }
   ],
   "source": [
    "arr = [ 'string', 34, True]\n",
    "\n",
    "for i in range(len(arr)):\n",
    "    print(arr[i])"
   ]
  },
  {
   "cell_type": "code",
   "execution_count": null,
   "metadata": {},
   "outputs": [],
   "source": [
    "# - random 1 danh sách 10 phần tử, phần tử sinh ra số 1 tới 100.\n",
    "# - tính tổng các số chẵn trong danh sách đó\n"
   ]
  },
  {
   "cell_type": "code",
   "execution_count": 30,
   "metadata": {},
   "outputs": [],
   "source": [
    "diction = {\n",
    "    'productid': 12,\n",
    "    'productName': 'MX Logitech',\n",
    "    'productPrice': 500\n",
    "}\n"
   ]
  }
 ],
 "metadata": {
  "kernelspec": {
   "display_name": "Python 3",
   "language": "python",
   "name": "python3"
  },
  "language_info": {
   "codemirror_mode": {
    "name": "ipython",
    "version": 3
   },
   "file_extension": ".py",
   "mimetype": "text/x-python",
   "name": "python",
   "nbconvert_exporter": "python",
   "pygments_lexer": "ipython3",
   "version": "3.12.3"
  }
 },
 "nbformat": 4,
 "nbformat_minor": 2
}
